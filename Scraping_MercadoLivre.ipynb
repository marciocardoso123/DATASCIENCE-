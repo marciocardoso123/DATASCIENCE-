{
  "nbformat": 4,
  "nbformat_minor": 0,
  "metadata": {
    "colab": {
      "name": "Scraping_MercadoLivre.ipynb",
      "provenance": [],
      "collapsed_sections": [],
      "authorship_tag": "ABX9TyMJAwYCthPYze/pdeDstnBV",
      "include_colab_link": true
    },
    "kernelspec": {
      "name": "python3",
      "display_name": "Python 3"
    },
    "language_info": {
      "name": "python"
    }
  },
  "cells": [
    {
      "cell_type": "markdown",
      "metadata": {
        "id": "view-in-github",
        "colab_type": "text"
      },
      "source": [
        "<a href=\"https://colab.research.google.com/github/marciocardoso123/DATASCIENCE-/blob/main/Scraping_MercadoLivre.ipynb\" target=\"_parent\"><img src=\"https://colab.research.google.com/assets/colab-badge.svg\" alt=\"Open In Colab\"/></a>"
      ]
    },
    {
      "cell_type": "code",
      "source": [
        "#Scraping de pesquisa e busca de mercadorias de ML \n",
        "# - Obtendo produtos do Mercado Livre a partir de uma busca realizada pelo usuário\n",
        "\n",
        "import requests\n",
        "from bs4 import BeautifulSoup\n",
        "\n",
        "url_base = 'https://lista.mercadolivre.com.br/'\n",
        "\n",
        "produto_nome = input('Qual produto você deseja? ')\n",
        "\n",
        "response = requests.get(url_base + produto_nome)\n",
        "\n",
        "site = BeautifulSoup(response.text, 'html.parser')\n",
        "#\n",
        "#produtos = div class de nome 'andes-card andes-card--flat andes-card--default ui-search-result ui-search-result--core andes-card--padding-default'\n",
        "#para que dentro desta possamos fazer consulta de nome tipo e preço\n",
        "produtos = site.findAll('div', attrs={'class': 'andes-card andes-card--flat andes-card--default ui-search-result ui-search-result--core andes-card--padding-default'})\n",
        "\n",
        "#print(produtos)\n",
        "\n",
        "for produto in produtos:\n",
        "    titulo = produto.find('h2', attrs={'class': 'ui-search-item__title'})\n",
        "    link = produto.find('a', attrs={'class': 'ui-search-link'})\n",
        "\n",
        "    real = produto.find('span', attrs={'class': 'price-tag-fraction'})\n",
        "    centavos = produto.find('span', attrs={'class': 'price-tag-cents'})\n",
        "\n",
        "    print(produto.prettify())\n",
        "    print('Título do produto:', titulo.text)\n",
        "    print('Link do produto:', link['href'])\n",
        "\n",
        "    if (centavos):\n",
        "        print('Preço do produto: R$', real.text + ',' + centavos.text)\n",
        "    else:\n",
        "        print('Preço do produto: R$', real.text)\n",
        "    \n",
        "    print('\\n\\n')\n",
        "    break\n",
        "    \n",
        "\n",
        "\n"
      ],
      "metadata": {
        "id": "-BBSYq0lGvbS"
      },
      "execution_count": null,
      "outputs": []
    },
    {
      "cell_type": "code",
      "source": [
        ""
      ],
      "metadata": {
        "id": "JGyel_iqGvYT"
      },
      "execution_count": null,
      "outputs": []
    },
    {
      "cell_type": "code",
      "source": [
        ""
      ],
      "metadata": {
        "id": "oH4avJNbGvUy"
      },
      "execution_count": null,
      "outputs": []
    },
    {
      "cell_type": "code",
      "source": [
        ""
      ],
      "metadata": {
        "id": "NIE3XmHHGvRj"
      },
      "execution_count": null,
      "outputs": []
    }
  ]
}