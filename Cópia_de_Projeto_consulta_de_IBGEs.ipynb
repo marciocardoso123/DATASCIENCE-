{
  "nbformat": 4,
  "nbformat_minor": 0,
  "metadata": {
    "colab": {
      "name": "Cópia de Projeto_consulta_de_IBGEs.ipynb",
      "provenance": [],
      "authorship_tag": "ABX9TyNFwqDvG0XCuAehJp8zJPv2",
      "include_colab_link": true
    },
    "kernelspec": {
      "name": "python3",
      "display_name": "Python 3"
    },
    "language_info": {
      "name": "python"
    }
  },
  "cells": [
    {
      "cell_type": "markdown",
      "metadata": {
        "id": "view-in-github",
        "colab_type": "text"
      },
      "source": [
        "<a href=\"https://colab.research.google.com/github/marciocardoso123/DATASCIENCE-/blob/main/C%C3%B3pia_de_Projeto_consulta_de_IBGEs.ipynb\" target=\"_parent\"><img src=\"https://colab.research.google.com/assets/colab-badge.svg\" alt=\"Open In Colab\"/></a>"
      ]
    },
    {
      "cell_type": "code",
      "execution_count": null,
      "metadata": {
        "id": "LOwgMC6l061E"
      },
      "outputs": [],
      "source": [
        "#Projeto Unicórnios:\n",
        "import pandas as pd\n",
        "import numpy as np\n",
        "import matplotlib.pyplot as plt\n",
        "import seaborn as sns\n",
        "import warnings\n",
        "warnings.filterwarnings('ignore')"
      ]
    },
    {
      "cell_type": "code",
      "source": [
        ""
      ],
      "metadata": {
        "id": "o9L0dVzF2vl4"
      },
      "execution_count": null,
      "outputs": []
    },
    {
      "cell_type": "code",
      "source": [
        "bd = pd.read_csv('/content/Startups+in+2021+end.csv') "
      ],
      "metadata": {
        "id": "q0CWNHkN2wk_"
      },
      "execution_count": null,
      "outputs": []
    },
    {
      "cell_type": "code",
      "source": [
        "bd.shape"
      ],
      "metadata": {
        "colab": {
          "base_uri": "https://localhost:8080/"
        },
        "id": "WYpfkqiL2vje",
        "outputId": "454c5e8e-a8fe-40c2-b50b-d3d3b02ca494"
      },
      "execution_count": null,
      "outputs": [
        {
          "output_type": "execute_result",
          "data": {
            "text/plain": [
              "(936, 8)"
            ]
          },
          "metadata": {},
          "execution_count": 4
        }
      ]
    },
    {
      "cell_type": "code",
      "source": [
        "bd.head()"
      ],
      "metadata": {
        "colab": {
          "base_uri": "https://localhost:8080/",
          "height": 206
        },
        "id": "b8xtt0-k2vgT",
        "outputId": "1b19446f-1631-43a1-9dff-03e3b245c758"
      },
      "execution_count": null,
      "outputs": [
        {
          "output_type": "execute_result",
          "data": {
            "text/plain": [
              "   Unnamed: 0    Company Valuation ($B) Date Joined        Country  \\\n",
              "0           0  Bytedance           $140    4/7/2017          China   \n",
              "1           1     SpaceX         $100.3   12/1/2012  United States   \n",
              "2           2     Stripe            $95   1/23/2014  United States   \n",
              "3           3     Klarna          $45.6  12/12/2011         Sweden   \n",
              "4           4      Canva            $40    1/8/2018      Australia   \n",
              "\n",
              "            City                      Industry  \\\n",
              "0        Beijing       Artificial intelligence   \n",
              "1      Hawthorne                         Other   \n",
              "2  San Francisco                       Fintech   \n",
              "3      Stockholm                       Fintech   \n",
              "4    Surry Hills  Internet software & services   \n",
              "\n",
              "                                    Select Investors  \n",
              "0  Sequoia Capital China, SIG Asia Investments, S...  \n",
              "1  Founders Fund, Draper Fisher Jurvetson, Rothen...  \n",
              "2        Khosla Ventures, LowercaseCapital, capitalG  \n",
              "3  Institutional Venture Partners, Sequoia Capita...  \n",
              "4  Sequoia Capital China, Blackbird Ventures, Mat...  "
            ],
            "text/html": [
              "\n",
              "  <div id=\"df-ad4ff1bd-9cea-449c-8d03-1eb8fb3f4ae1\">\n",
              "    <div class=\"colab-df-container\">\n",
              "      <div>\n",
              "<style scoped>\n",
              "    .dataframe tbody tr th:only-of-type {\n",
              "        vertical-align: middle;\n",
              "    }\n",
              "\n",
              "    .dataframe tbody tr th {\n",
              "        vertical-align: top;\n",
              "    }\n",
              "\n",
              "    .dataframe thead th {\n",
              "        text-align: right;\n",
              "    }\n",
              "</style>\n",
              "<table border=\"1\" class=\"dataframe\">\n",
              "  <thead>\n",
              "    <tr style=\"text-align: right;\">\n",
              "      <th></th>\n",
              "      <th>Unnamed: 0</th>\n",
              "      <th>Company</th>\n",
              "      <th>Valuation ($B)</th>\n",
              "      <th>Date Joined</th>\n",
              "      <th>Country</th>\n",
              "      <th>City</th>\n",
              "      <th>Industry</th>\n",
              "      <th>Select Investors</th>\n",
              "    </tr>\n",
              "  </thead>\n",
              "  <tbody>\n",
              "    <tr>\n",
              "      <th>0</th>\n",
              "      <td>0</td>\n",
              "      <td>Bytedance</td>\n",
              "      <td>$140</td>\n",
              "      <td>4/7/2017</td>\n",
              "      <td>China</td>\n",
              "      <td>Beijing</td>\n",
              "      <td>Artificial intelligence</td>\n",
              "      <td>Sequoia Capital China, SIG Asia Investments, S...</td>\n",
              "    </tr>\n",
              "    <tr>\n",
              "      <th>1</th>\n",
              "      <td>1</td>\n",
              "      <td>SpaceX</td>\n",
              "      <td>$100.3</td>\n",
              "      <td>12/1/2012</td>\n",
              "      <td>United States</td>\n",
              "      <td>Hawthorne</td>\n",
              "      <td>Other</td>\n",
              "      <td>Founders Fund, Draper Fisher Jurvetson, Rothen...</td>\n",
              "    </tr>\n",
              "    <tr>\n",
              "      <th>2</th>\n",
              "      <td>2</td>\n",
              "      <td>Stripe</td>\n",
              "      <td>$95</td>\n",
              "      <td>1/23/2014</td>\n",
              "      <td>United States</td>\n",
              "      <td>San Francisco</td>\n",
              "      <td>Fintech</td>\n",
              "      <td>Khosla Ventures, LowercaseCapital, capitalG</td>\n",
              "    </tr>\n",
              "    <tr>\n",
              "      <th>3</th>\n",
              "      <td>3</td>\n",
              "      <td>Klarna</td>\n",
              "      <td>$45.6</td>\n",
              "      <td>12/12/2011</td>\n",
              "      <td>Sweden</td>\n",
              "      <td>Stockholm</td>\n",
              "      <td>Fintech</td>\n",
              "      <td>Institutional Venture Partners, Sequoia Capita...</td>\n",
              "    </tr>\n",
              "    <tr>\n",
              "      <th>4</th>\n",
              "      <td>4</td>\n",
              "      <td>Canva</td>\n",
              "      <td>$40</td>\n",
              "      <td>1/8/2018</td>\n",
              "      <td>Australia</td>\n",
              "      <td>Surry Hills</td>\n",
              "      <td>Internet software &amp; services</td>\n",
              "      <td>Sequoia Capital China, Blackbird Ventures, Mat...</td>\n",
              "    </tr>\n",
              "  </tbody>\n",
              "</table>\n",
              "</div>\n",
              "      <button class=\"colab-df-convert\" onclick=\"convertToInteractive('df-ad4ff1bd-9cea-449c-8d03-1eb8fb3f4ae1')\"\n",
              "              title=\"Convert this dataframe to an interactive table.\"\n",
              "              style=\"display:none;\">\n",
              "        \n",
              "  <svg xmlns=\"http://www.w3.org/2000/svg\" height=\"24px\"viewBox=\"0 0 24 24\"\n",
              "       width=\"24px\">\n",
              "    <path d=\"M0 0h24v24H0V0z\" fill=\"none\"/>\n",
              "    <path d=\"M18.56 5.44l.94 2.06.94-2.06 2.06-.94-2.06-.94-.94-2.06-.94 2.06-2.06.94zm-11 1L8.5 8.5l.94-2.06 2.06-.94-2.06-.94L8.5 2.5l-.94 2.06-2.06.94zm10 10l.94 2.06.94-2.06 2.06-.94-2.06-.94-.94-2.06-.94 2.06-2.06.94z\"/><path d=\"M17.41 7.96l-1.37-1.37c-.4-.4-.92-.59-1.43-.59-.52 0-1.04.2-1.43.59L10.3 9.45l-7.72 7.72c-.78.78-.78 2.05 0 2.83L4 21.41c.39.39.9.59 1.41.59.51 0 1.02-.2 1.41-.59l7.78-7.78 2.81-2.81c.8-.78.8-2.07 0-2.86zM5.41 20L4 18.59l7.72-7.72 1.47 1.35L5.41 20z\"/>\n",
              "  </svg>\n",
              "      </button>\n",
              "      \n",
              "  <style>\n",
              "    .colab-df-container {\n",
              "      display:flex;\n",
              "      flex-wrap:wrap;\n",
              "      gap: 12px;\n",
              "    }\n",
              "\n",
              "    .colab-df-convert {\n",
              "      background-color: #E8F0FE;\n",
              "      border: none;\n",
              "      border-radius: 50%;\n",
              "      cursor: pointer;\n",
              "      display: none;\n",
              "      fill: #1967D2;\n",
              "      height: 32px;\n",
              "      padding: 0 0 0 0;\n",
              "      width: 32px;\n",
              "    }\n",
              "\n",
              "    .colab-df-convert:hover {\n",
              "      background-color: #E2EBFA;\n",
              "      box-shadow: 0px 1px 2px rgba(60, 64, 67, 0.3), 0px 1px 3px 1px rgba(60, 64, 67, 0.15);\n",
              "      fill: #174EA6;\n",
              "    }\n",
              "\n",
              "    [theme=dark] .colab-df-convert {\n",
              "      background-color: #3B4455;\n",
              "      fill: #D2E3FC;\n",
              "    }\n",
              "\n",
              "    [theme=dark] .colab-df-convert:hover {\n",
              "      background-color: #434B5C;\n",
              "      box-shadow: 0px 1px 3px 1px rgba(0, 0, 0, 0.15);\n",
              "      filter: drop-shadow(0px 1px 2px rgba(0, 0, 0, 0.3));\n",
              "      fill: #FFFFFF;\n",
              "    }\n",
              "  </style>\n",
              "\n",
              "      <script>\n",
              "        const buttonEl =\n",
              "          document.querySelector('#df-ad4ff1bd-9cea-449c-8d03-1eb8fb3f4ae1 button.colab-df-convert');\n",
              "        buttonEl.style.display =\n",
              "          google.colab.kernel.accessAllowed ? 'block' : 'none';\n",
              "\n",
              "        async function convertToInteractive(key) {\n",
              "          const element = document.querySelector('#df-ad4ff1bd-9cea-449c-8d03-1eb8fb3f4ae1');\n",
              "          const dataTable =\n",
              "            await google.colab.kernel.invokeFunction('convertToInteractive',\n",
              "                                                     [key], {});\n",
              "          if (!dataTable) return;\n",
              "\n",
              "          const docLinkHtml = 'Like what you see? Visit the ' +\n",
              "            '<a target=\"_blank\" href=https://colab.research.google.com/notebooks/data_table.ipynb>data table notebook</a>'\n",
              "            + ' to learn more about interactive tables.';\n",
              "          element.innerHTML = '';\n",
              "          dataTable['output_type'] = 'display_data';\n",
              "          await google.colab.output.renderOutput(dataTable, element);\n",
              "          const docLink = document.createElement('div');\n",
              "          docLink.innerHTML = docLinkHtml;\n",
              "          element.appendChild(docLink);\n",
              "        }\n",
              "      </script>\n",
              "    </div>\n",
              "  </div>\n",
              "  "
            ]
          },
          "metadata": {},
          "execution_count": 5
        }
      ]
    },
    {
      "cell_type": "code",
      "source": [
        "#renomear\n",
        "bd.rename(columns={\n",
        "    'Unnamed: 0' :'Id',\n",
        "    'Company' : 'Empresa',\n",
        "    'Valuation ($B)' : 'Valor($)',\n",
        "    'Date Joined' : 'Data de Adesão',\n",
        "    'Country' : 'Páis',\n",
        "    'City' : 'Cidade',\n",
        "    'Industry' : 'Setor',\n",
        "    'Select Investors' : 'Investidores'\n",
        "}, inplace=True)"
      ],
      "metadata": {
        "id": "6aj0hPq52vcj"
      },
      "execution_count": null,
      "outputs": []
    },
    {
      "cell_type": "code",
      "source": [
        "#Verificando valores para converter os que forem nescessários\n",
        "bd.info()"
      ],
      "metadata": {
        "colab": {
          "base_uri": "https://localhost:8080/"
        },
        "id": "CRd1zB8P2vZN",
        "outputId": "73c3dd3e-e357-4a56-bec5-430c5cdbda3a"
      },
      "execution_count": null,
      "outputs": [
        {
          "output_type": "stream",
          "name": "stdout",
          "text": [
            "<class 'pandas.core.frame.DataFrame'>\n",
            "RangeIndex: 936 entries, 0 to 935\n",
            "Data columns (total 8 columns):\n",
            " #   Column          Non-Null Count  Dtype \n",
            "---  ------          --------------  ----- \n",
            " 0   Id              936 non-null    int64 \n",
            " 1   Empresa         936 non-null    object\n",
            " 2   Valor($)        936 non-null    object\n",
            " 3   Data de Adesão  936 non-null    object\n",
            " 4   Páis            936 non-null    object\n",
            " 5   Cidade          921 non-null    object\n",
            " 6   Setor           936 non-null    object\n",
            " 7   Investidores    935 non-null    object\n",
            "dtypes: int64(1), object(7)\n",
            "memory usage: 58.6+ KB\n"
          ]
        }
      ]
    },
    {
      "cell_type": "code",
      "source": [
        "#buscando campos nulos:\n",
        "bd.isnull().sum()"
      ],
      "metadata": {
        "colab": {
          "base_uri": "https://localhost:8080/"
        },
        "id": "02nOidSH2vVt",
        "outputId": "8ba9a046-6f3a-462b-c8fe-4efa6ed62c92"
      },
      "execution_count": null,
      "outputs": [
        {
          "output_type": "execute_result",
          "data": {
            "text/plain": [
              "Id                 0\n",
              "Empresa            0\n",
              "Valor($)           0\n",
              "Data de Adesão     0\n",
              "Páis               0\n",
              "Cidade            15\n",
              "Setor              0\n",
              "Investidores       1\n",
              "dtype: int64"
            ]
          },
          "metadata": {},
          "execution_count": 9
        }
      ]
    },
    {
      "cell_type": "code",
      "source": [
        "#imagens do campos nulos com mapa de calor\n",
        "plt.figure(figsize=(15,6))\n",
        "plt.title('Analise de campos nulos:')\n",
        "sns.heatmap(bd.isnull());"
      ],
      "metadata": {
        "colab": {
          "base_uri": "https://localhost:8080/",
          "height": 390
        },
        "id": "R_pXIjlR5Wg7",
        "outputId": "aec71c27-cb85-4f9d-b334-e21ee35dc29f"
      },
      "execution_count": null,
      "outputs": [
        {
          "output_type": "display_data",
          "data": {
            "text/plain": [
              "<Figure size 1080x432 with 2 Axes>"
            ],
            "image/png": "[encoded data removed]"
          },
          "metadata": {
            "needs_background": "light"
          }
        }
      ]
    },
    {
      "cell_type": "code",
      "source": [
        ""
      ],
      "metadata": {
        "id": "tokZfR7X5WcH"
      },
      "execution_count": null,
      "outputs": []
    },
    {
      "cell_type": "code",
      "source": [
        "import requests\n",
        "from bs4 import BeautifulSoup\n",
        "import pandas as pd"
      ],
      "metadata": {
        "id": "ByrNrowe6dDk"
      },
      "execution_count": null,
      "outputs": []
    },
    {
      "cell_type": "code",
      "source": [
        "#request + selector\n",
        "#função que retorna inf dos estados brasileiros\n",
        "def scrap_state_info(state:str)->dict:\n",
        "  print(f' Picking {state} info ...')\n",
        "  state_url = f'https://www.ibge.gov.br/cidades-e-estados/{state}.html'\n",
        "  page = requests.get(state_url)\n",
        "\n",
        "  soup = BeautifulSoup(page.content, 'html.parser')\n",
        "  indicadors = soup.select('.indicador')\n",
        "\n",
        "\n",
        "  state_dict = {\n",
        "      ind.select('.ind-label')[0].text: ind.select('.ind-value')[0].text\n",
        "      for ind in indicadors\n",
        "  }\n",
        "  state_dict['Estado'] = state\n",
        "\n",
        "  return state_dict\n",
        "  #return [(ind.select('.ind-label')[0].text, ind.select('.ind-value')[0].text) for ind in indicadors]\n",
        "\n",
        "scrap_state_info('RS')"
      ],
      "metadata": {
        "colab": {
          "base_uri": "https://localhost:8080/"
        },
        "id": "tp81zXtUQ6qC",
        "outputId": "079d3cd2-0409-47d8-f1ad-3d3e622352a9"
      },
      "execution_count": null,
      "outputs": [
        {
          "output_type": "stream",
          "name": "stdout",
          "text": [
            " Picking RS info ...\n"
          ]
        },
        {
          "output_type": "execute_result",
          "data": {
            "text/plain": [
              "{'Capital': 'Porto Alegre\\xa0\\xa0\\xa0[2010]',\n",
              " 'Densidade demográfica': '39,79 hab/km²\\xa0\\xa0\\xa0[2010]',\n",
              " 'Despesas empenhadas': '62.476.279,34 R$ (×1000)\\xa0\\xa0\\xa0[2017]',\n",
              " 'Estado': 'RS',\n",
              " 'Gentílico': 'gaúcho ou sul-rio-grandense',\n",
              " 'Governador': 'EDUARDO FIGUEIREDO CAVALHEIRO LEITE\\xa0\\xa0\\xa0[2019]',\n",
              " 'IDH Índice de desenvolvimento humano': '0,746\\xa0\\xa0\\xa0[2010]',\n",
              " 'Matrículas no ensino fundamental': '1.269.309 matrículas\\xa0\\xa0\\xa0[2020]',\n",
              " 'População estimada': '11.466.630 pessoas\\xa0\\xa0\\xa0[2021]',\n",
              " 'Receitas realizadas': '66.397.468,18 R$ (×1000)\\xa0\\xa0\\xa0[2017]',\n",
              " 'Rendimento mensal domiciliar per capita': '1.787 R$\\xa0\\xa0\\xa0[2021]',\n",
              " 'Total de veículos': '7.689.278 veículos\\xa0\\xa0\\xa0[2021]',\n",
              " 'Área Territorial': '281.707,151 km²\\xa0\\xa0\\xa0[2021]'}"
            ]
          },
          "metadata": {},
          "execution_count": 10
        }
      ]
    },
    {
      "cell_type": "code",
      "source": [
        "states = ['AC', 'AL', 'AP', 'AM', 'BA', 'CE', 'DF', 'ES', 'GO', 'MA', 'MT', 'MS', 'MG', 'PA', 'PB', 'PR', 'PE', 'PI', 'RJ', 'RN', 'RS', 'RO', 'RR', 'SC', 'SP', 'SE', 'TO']\n",
        "states_data = [scrap_state_info(state) for state in states]"
      ],
      "metadata": {
        "colab": {
          "base_uri": "https://localhost:8080/"
        },
        "id": "dsd6PIp0Q6QP",
        "outputId": "45117f1d-fce1-46e3-df73-8119561735c4"
      },
      "execution_count": null,
      "outputs": [
        {
          "output_type": "stream",
          "name": "stdout",
          "text": [
            " Picking AC info ...\n",
            " Picking AL info ...\n",
            " Picking AP info ...\n",
            " Picking AM info ...\n",
            " Picking BA info ...\n",
            " Picking CE info ...\n",
            " Picking DF info ...\n",
            " Picking ES info ...\n",
            " Picking GO info ...\n",
            " Picking MA info ...\n",
            " Picking MT info ...\n",
            " Picking MS info ...\n",
            " Picking MG info ...\n",
            " Picking PA info ...\n",
            " Picking PB info ...\n",
            " Picking PR info ...\n",
            " Picking PE info ...\n",
            " Picking PI info ...\n",
            " Picking RJ info ...\n",
            " Picking RN info ...\n",
            " Picking RS info ...\n",
            " Picking RO info ...\n",
            " Picking RR info ...\n",
            " Picking SC info ...\n",
            " Picking SP info ...\n",
            " Picking SE info ...\n",
            " Picking TO info ...\n"
          ]
        }
      ]
    },
    {
      "cell_type": "code",
      "source": [
        "df = pd.DataFrame(states_data)\n",
        "df.head()"
      ],
      "metadata": {
        "colab": {
          "base_uri": "https://localhost:8080/",
          "height": 530
        },
        "id": "Kztr9_buQ6MU",
        "outputId": "272af649-17a7-4f7f-e019-b29bfd85ba2c"
      },
      "execution_count": null,
      "outputs": [
        {
          "output_type": "execute_result",
          "data": {
            "text/plain": [
              "                                        Governador              Capital  \\\n",
              "0                  GLADSON DE LIMA CAMELI   [2019]  Rio Branco   [2010]   \n",
              "1  JOSE RENAN VASCONCELOS CALHEIROS FILHO   [2019]      Maceió   [2010]   \n",
              "2            ANTONIO WALDEZ GÓES DA SILVA   [2019]      Macapá   [2010]   \n",
              "3                     WILSON MIRANDA LIMA   [2019]      Manaus   [2010]   \n",
              "4                    RUI COSTA DOS SANTOS   [2019]    Salvador   [2010]   \n",
              "\n",
              "    Gentílico            Área Territorial           População estimada  \\\n",
              "0     acriano    164.173,431 km²   [2021]     906.876 pessoas   [2021]   \n",
              "1    alagoano     27.830,661 km²   [2021]   3.365.351 pessoas   [2021]   \n",
              "2   amapaense    142.470,762 km²   [2021]     877.613 pessoas   [2021]   \n",
              "3  amazonense  1.559.167,878 km²   [2021]   4.269.995 pessoas   [2021]   \n",
              "4      baiano    564.760,429 km²   [2021]  14.985.284 pessoas   [2021]   \n",
              "\n",
              "     Densidade demográfica Matrículas no ensino fundamental  \\\n",
              "0    4,47 hab/km²   [2010]       156.679 matrículas   [2020]   \n",
              "1  112,33 hab/km²   [2010]       464.704 matrículas   [2020]   \n",
              "2    4,69 hab/km²   [2010]       134.820 matrículas   [2020]   \n",
              "3    2,23 hab/km²   [2010]       700.104 matrículas   [2020]   \n",
              "4   24,82 hab/km²   [2010]     1.947.177 matrículas   [2020]   \n",
              "\n",
              "  IDH Índice de desenvolvimento humano                Receitas realizadas  \\\n",
              "0                        0,663   [2010]   6.632.883,11 R$ (×1000)   [2017]   \n",
              "1                        0,631   [2010]  11.950.438,46 R$ (×1000)   [2017]   \n",
              "2                        0,708   [2010]   5.396.417,14 R$ (×1000)   [2017]   \n",
              "3                        0,674   [2010]  17.328.459,43 R$ (×1000)   [2017]   \n",
              "4                        0,660   [2010]  50.191.003,24 R$ (×1000)   [2017]   \n",
              "\n",
              "                 Despesas empenhadas Rendimento mensal domiciliar per capita  \\\n",
              "0   6.084.416,81 R$ (×1000)   [2017]                         888 R$   [2021]   \n",
              "1  10.460.634,92 R$ (×1000)   [2017]                         777 R$   [2021]   \n",
              "2   4.224.464,09 R$ (×1000)   [2017]                         855 R$   [2021]   \n",
              "3  15.324.896,56 R$ (×1000)   [2017]                         800 R$   [2021]   \n",
              "4  45.570.160,00 R$ (×1000)   [2017]                         843 R$   [2021]   \n",
              "\n",
              "             Total de veículos Estado  \n",
              "0    320.173 veículos   [2021]     AC  \n",
              "1    981.823 veículos   [2021]     AL  \n",
              "2    224.208 veículos   [2021]     AP  \n",
              "3  1.014.026 veículos   [2021]     AM  \n",
              "4  4.695.972 veículos   [2021]     BA  "
            ],
            "text/html": [
              "\n",
              "  <div id=\"df-c98cf401-bee0-4a97-8804-31d654fb4d03\">\n",
              "    <div class=\"colab-df-container\">\n",
              "      <div>\n",
              "<style scoped>\n",
              "    .dataframe tbody tr th:only-of-type {\n",
              "        vertical-align: middle;\n",
              "    }\n",
              "\n",
              "    .dataframe tbody tr th {\n",
              "        vertical-align: top;\n",
              "    }\n",
              "\n",
              "    .dataframe thead th {\n",
              "        text-align: right;\n",
              "    }\n",
              "</style>\n",
              "<table border=\"1\" class=\"dataframe\">\n",
              "  <thead>\n",
              "    <tr style=\"text-align: right;\">\n",
              "      <th></th>\n",
              "      <th>Governador</th>\n",
              "      <th>Capital</th>\n",
              "      <th>Gentílico</th>\n",
              "      <th>Área Territorial</th>\n",
              "      <th>População estimada</th>\n",
              "      <th>Densidade demográfica</th>\n",
              "      <th>Matrículas no ensino fundamental</th>\n",
              "      <th>IDH Índice de desenvolvimento humano</th>\n",
              "      <th>Receitas realizadas</th>\n",
              "      <th>Despesas empenhadas</th>\n",
              "      <th>Rendimento mensal domiciliar per capita</th>\n",
              "      <th>Total de veículos</th>\n",
              "      <th>Estado</th>\n",
              "    </tr>\n",
              "  </thead>\n",
              "  <tbody>\n",
              "    <tr>\n",
              "      <th>0</th>\n",
              "      <td>GLADSON DE LIMA CAMELI   [2019]</td>\n",
              "      <td>Rio Branco   [2010]</td>\n",
              "      <td>acriano</td>\n",
              "      <td>164.173,431 km²   [2021]</td>\n",
              "      <td>906.876 pessoas   [2021]</td>\n",
              "      <td>4,47 hab/km²   [2010]</td>\n",
              "      <td>156.679 matrículas   [2020]</td>\n",
              "      <td>0,663   [2010]</td>\n",
              "      <td>6.632.883,11 R$ (×1000)   [2017]</td>\n",
              "      <td>6.084.416,81 R$ (×1000)   [2017]</td>\n",
              "      <td>888 R$   [2021]</td>\n",
              "      <td>320.173 veículos   [2021]</td>\n",
              "      <td>AC</td>\n",
              "    </tr>\n",
              "    <tr>\n",
              "      <th>1</th>\n",
              "      <td>JOSE RENAN VASCONCELOS CALHEIROS FILHO   [2019]</td>\n",
              "      <td>Maceió   [2010]</td>\n",
              "      <td>alagoano</td>\n",
              "      <td>27.830,661 km²   [2021]</td>\n",
              "      <td>3.365.351 pessoas   [2021]</td>\n",
              "      <td>112,33 hab/km²   [2010]</td>\n",
              "      <td>464.704 matrículas   [2020]</td>\n",
              "      <td>0,631   [2010]</td>\n",
              "      <td>11.950.438,46 R$ (×1000)   [2017]</td>\n",
              "      <td>10.460.634,92 R$ (×1000)   [2017]</td>\n",
              "      <td>777 R$   [2021]</td>\n",
              "      <td>981.823 veículos   [2021]</td>\n",
              "      <td>AL</td>\n",
              "    </tr>\n",
              "    <tr>\n",
              "      <th>2</th>\n",
              "      <td>ANTONIO WALDEZ GÓES DA SILVA   [2019]</td>\n",
              "      <td>Macapá   [2010]</td>\n",
              "      <td>amapaense</td>\n",
              "      <td>142.470,762 km²   [2021]</td>\n",
              "      <td>877.613 pessoas   [2021]</td>\n",
              "      <td>4,69 hab/km²   [2010]</td>\n",
              "      <td>134.820 matrículas   [2020]</td>\n",
              "      <td>0,708   [2010]</td>\n",
              "      <td>5.396.417,14 R$ (×1000)   [2017]</td>\n",
              "      <td>4.224.464,09 R$ (×1000)   [2017]</td>\n",
              "      <td>855 R$   [2021]</td>\n",
              "      <td>224.208 veículos   [2021]</td>\n",
              "      <td>AP</td>\n",
              "    </tr>\n",
              "    <tr>\n",
              "      <th>3</th>\n",
              "      <td>WILSON MIRANDA LIMA   [2019]</td>\n",
              "      <td>Manaus   [2010]</td>\n",
              "      <td>amazonense</td>\n",
              "      <td>1.559.167,878 km²   [2021]</td>\n",
              "      <td>4.269.995 pessoas   [2021]</td>\n",
              "      <td>2,23 hab/km²   [2010]</td>\n",
              "      <td>700.104 matrículas   [2020]</td>\n",
              "      <td>0,674   [2010]</td>\n",
              "      <td>17.328.459,43 R$ (×1000)   [2017]</td>\n",
              "      <td>15.324.896,56 R$ (×1000)   [2017]</td>\n",
              "      <td>800 R$   [2021]</td>\n",
              "      <td>1.014.026 veículos   [2021]</td>\n",
              "      <td>AM</td>\n",
              "    </tr>\n",
              "    <tr>\n",
              "      <th>4</th>\n",
              "      <td>RUI COSTA DOS SANTOS   [2019]</td>\n",
              "      <td>Salvador   [2010]</td>\n",
              "      <td>baiano</td>\n",
              "      <td>564.760,429 km²   [2021]</td>\n",
              "      <td>14.985.284 pessoas   [2021]</td>\n",
              "      <td>24,82 hab/km²   [2010]</td>\n",
              "      <td>1.947.177 matrículas   [2020]</td>\n",
              "      <td>0,660   [2010]</td>\n",
              "      <td>50.191.003,24 R$ (×1000)   [2017]</td>\n",
              "      <td>45.570.160,00 R$ (×1000)   [2017]</td>\n",
              "      <td>843 R$   [2021]</td>\n",
              "      <td>4.695.972 veículos   [2021]</td>\n",
              "      <td>BA</td>\n",
              "    </tr>\n",
              "  </tbody>\n",
              "</table>\n",
              "</div>\n",
              "      <button class=\"colab-df-convert\" onclick=\"convertToInteractive('df-c98cf401-bee0-4a97-8804-31d654fb4d03')\"\n",
              "              title=\"Convert this dataframe to an interactive table.\"\n",
              "              style=\"display:none;\">\n",
              "        \n",
              "  <svg xmlns=\"http://www.w3.org/2000/svg\" height=\"24px\"viewBox=\"0 0 24 24\"\n",
              "       width=\"24px\">\n",
              "    <path d=\"M0 0h24v24H0V0z\" fill=\"none\"/>\n",
              "    <path d=\"M18.56 5.44l.94 2.06.94-2.06 2.06-.94-2.06-.94-.94-2.06-.94 2.06-2.06.94zm-11 1L8.5 8.5l.94-2.06 2.06-.94-2.06-.94L8.5 2.5l-.94 2.06-2.06.94zm10 10l.94 2.06.94-2.06 2.06-.94-2.06-.94-.94-2.06-.94 2.06-2.06.94z\"/><path d=\"M17.41 7.96l-1.37-1.37c-.4-.4-.92-.59-1.43-.59-.52 0-1.04.2-1.43.59L10.3 9.45l-7.72 7.72c-.78.78-.78 2.05 0 2.83L4 21.41c.39.39.9.59 1.41.59.51 0 1.02-.2 1.41-.59l7.78-7.78 2.81-2.81c.8-.78.8-2.07 0-2.86zM5.41 20L4 18.59l7.72-7.72 1.47 1.35L5.41 20z\"/>\n",
              "  </svg>\n",
              "      </button>\n",
              "      \n",
              "  <style>\n",
              "    .colab-df-container {\n",
              "      display:flex;\n",
              "      flex-wrap:wrap;\n",
              "      gap: 12px;\n",
              "    }\n",
              "\n",
              "    .colab-df-convert {\n",
              "      background-color: #E8F0FE;\n",
              "      border: none;\n",
              "      border-radius: 50%;\n",
              "      cursor: pointer;\n",
              "      display: none;\n",
              "      fill: #1967D2;\n",
              "      height: 32px;\n",
              "      padding: 0 0 0 0;\n",
              "      width: 32px;\n",
              "    }\n",
              "\n",
              "    .colab-df-convert:hover {\n",
              "      background-color: #E2EBFA;\n",
              "      box-shadow: 0px 1px 2px rgba(60, 64, 67, 0.3), 0px 1px 3px 1px rgba(60, 64, 67, 0.15);\n",
              "      fill: #174EA6;\n",
              "    }\n",
              "\n",
              "    [theme=dark] .colab-df-convert {\n",
              "      background-color: #3B4455;\n",
              "      fill: #D2E3FC;\n",
              "    }\n",
              "\n",
              "    [theme=dark] .colab-df-convert:hover {\n",
              "      background-color: #434B5C;\n",
              "      box-shadow: 0px 1px 3px 1px rgba(0, 0, 0, 0.15);\n",
              "      filter: drop-shadow(0px 1px 2px rgba(0, 0, 0, 0.3));\n",
              "      fill: #FFFFFF;\n",
              "    }\n",
              "  </style>\n",
              "\n",
              "      <script>\n",
              "        const buttonEl =\n",
              "          document.querySelector('#df-c98cf401-bee0-4a97-8804-31d654fb4d03 button.colab-df-convert');\n",
              "        buttonEl.style.display =\n",
              "          google.colab.kernel.accessAllowed ? 'block' : 'none';\n",
              "\n",
              "        async function convertToInteractive(key) {\n",
              "          const element = document.querySelector('#df-c98cf401-bee0-4a97-8804-31d654fb4d03');\n",
              "          const dataTable =\n",
              "            await google.colab.kernel.invokeFunction('convertToInteractive',\n",
              "                                                     [key], {});\n",
              "          if (!dataTable) return;\n",
              "\n",
              "          const docLinkHtml = 'Like what you see? Visit the ' +\n",
              "            '<a target=\"_blank\" href=https://colab.research.google.com/notebooks/data_table.ipynb>data table notebook</a>'\n",
              "            + ' to learn more about interactive tables.';\n",
              "          element.innerHTML = '';\n",
              "          dataTable['output_type'] = 'display_data';\n",
              "          await google.colab.output.renderOutput(dataTable, element);\n",
              "          const docLink = document.createElement('div');\n",
              "          docLink.innerHTML = docLinkHtml;\n",
              "          element.appendChild(docLink);\n",
              "        }\n",
              "      </script>\n",
              "    </div>\n",
              "  </div>\n",
              "  "
            ]
          },
          "metadata": {},
          "execution_count": 13
        }
      ]
    },
    {
      "cell_type": "code",
      "source": [
        "df.info()"
      ],
      "metadata": {
        "colab": {
          "base_uri": "https://localhost:8080/"
        },
        "id": "KDUH7kBeQ6IZ",
        "outputId": "2de3fb09-0525-4d88-e17a-1f6f9fde379a"
      },
      "execution_count": null,
      "outputs": [
        {
          "output_type": "stream",
          "name": "stdout",
          "text": [
            "<class 'pandas.core.frame.DataFrame'>\n",
            "RangeIndex: 27 entries, 0 to 26\n",
            "Data columns (total 13 columns):\n",
            " #   Column                                   Non-Null Count  Dtype \n",
            "---  ------                                   --------------  ----- \n",
            " 0   Governador                               27 non-null     object\n",
            " 1   Capital                                  27 non-null     object\n",
            " 2   Gentílico                                27 non-null     object\n",
            " 3   Área Territorial                         27 non-null     object\n",
            " 4   População estimada                       27 non-null     object\n",
            " 5   Densidade demográfica                    27 non-null     object\n",
            " 6   Matrículas no ensino fundamental        27 non-null     object\n",
            " 7   IDH Índice de desenvolvimento humano    27 non-null     object\n",
            " 8   Receitas realizadas                      27 non-null     object\n",
            " 9   Despesas empenhadas                      27 non-null     object\n",
            " 10  Rendimento mensal domiciliar per capita  27 non-null     object\n",
            " 11  Total de veículos                        27 non-null     object\n",
            " 12  Estado                                   27 non-null     object\n",
            "dtypes: object(13)\n",
            "memory usage: 2.9+ KB\n"
          ]
        }
      ]
    },
    {
      "cell_type": "code",
      "source": [
        "#pandas e etapa de conversão de valores\n",
        "state_df = df.copy()\n",
        "state_df.columns = ['governor', 'capital', 'gentile', 'area', 'population', 'demographic_density', 'primary_school_enrollment', 'idh', 'realized_revenue', 'committed_expenses', 'income_per_capita', 'vehicle_total', 'code']\n",
        "states_df = state_df[['code', 'governor', 'population', 'area', 'idh', 'income_per_capita', 'vehicle_total', 'primary_school_enrollment', 'committed_expenses', 'realized_revenue']]\n"
      ],
      "metadata": {
        "id": "Pggo5FQl6dAd"
      },
      "execution_count": null,
      "outputs": []
    },
    {
      "cell_type": "code",
      "source": [
        "#remover pontos e excessos\n",
        "states_df = states_df.replace({\n",
        "    '\\.': '',\n",
        "    ',': '.',\n",
        "    '\\[\\d+\\]': '',\n",
        "    ' hab/km²': '',\n",
        "    ' km²': '',\n",
        "    ' pessoas': '',\n",
        "    ' matrículas': '',\n",
        "    'R\\$.*': '',\n",
        "    ' veículos': ''\n",
        "}, regex=True)\n",
        "\n",
        "states_df.head()\n",
        "\n",
        "num_cols = ['population', 'area', 'idh', 'income_per_capita', 'vehicle_total', 'primary_school_enrollment', 'committed_expenses', 'realized_revenue']\n",
        "\n",
        "#tirando espaços nas bordas das Strings\n",
        "states_df[num_cols] = states_df[num_cols].apply(lambda x: x.str.strip())\n",
        "\n",
        "#converte todas as colunas numericas para tipos numericos\n",
        "states_df[num_cols] = states_df[num_cols].apply(pd.to_numeric)\n",
        "states_df.info()"
      ],
      "metadata": {
        "id": "1pJK8o-35WY2",
        "colab": {
          "base_uri": "https://localhost:8080/"
        },
        "outputId": "dbf26b59-0d54-4e7b-d45a-fb05fa32a362"
      },
      "execution_count": null,
      "outputs": [
        {
          "output_type": "stream",
          "name": "stdout",
          "text": [
            "<class 'pandas.core.frame.DataFrame'>\n",
            "RangeIndex: 27 entries, 0 to 26\n",
            "Data columns (total 10 columns):\n",
            " #   Column                     Non-Null Count  Dtype \n",
            "---  ------                     --------------  ----- \n",
            " 0   code                       27 non-null     object\n",
            " 1   governor                   27 non-null     object\n",
            " 2   population                 27 non-null     int64 \n",
            " 3   area                       27 non-null     int64 \n",
            " 4   idh                        27 non-null     int64 \n",
            " 5   income_per_capita          27 non-null     int64 \n",
            " 6   vehicle_total              27 non-null     int64 \n",
            " 7   primary_school_enrollment  27 non-null     int64 \n",
            " 8   committed_expenses         27 non-null     int64 \n",
            " 9   realized_revenue           27 non-null     int64 \n",
            "dtypes: int64(8), object(2)\n",
            "memory usage: 2.2+ KB\n"
          ]
        }
      ]
    },
    {
      "cell_type": "code",
      "source": [
        "states_df.head()"
      ],
      "metadata": {
        "id": "Iq5oiwnG2vSX",
        "colab": {
          "base_uri": "https://localhost:8080/",
          "height": 267
        },
        "outputId": "4bb61f16-198d-41df-bfa5-ef99c9901d60"
      },
      "execution_count": null,
      "outputs": [
        {
          "output_type": "execute_result",
          "data": {
            "text/plain": [
              "  code                                   governor  population        area  \\\n",
              "0   AC                  GLADSON DE LIMA CAMELI         906876   164173431   \n",
              "1   AL  JOSE RENAN VASCONCELOS CALHEIROS FILHO        3365351    27830661   \n",
              "2   AP            ANTONIO WALDEZ GÓES DA SILVA         877613   142470762   \n",
              "3   AM                     WILSON MIRANDA LIMA        4269995  1559167878   \n",
              "4   BA                    RUI COSTA DOS SANTOS       14985284   564760429   \n",
              "\n",
              "   idh  income_per_capita  vehicle_total  primary_school_enrollment  \\\n",
              "0  663                888         320173                     156679   \n",
              "1  631                777         981823                     464704   \n",
              "2  708                855         224208                     134820   \n",
              "3  674                800        1014026                     700104   \n",
              "4  660                843        4695972                    1947177   \n",
              "\n",
              "   committed_expenses  realized_revenue  \n",
              "0           608441681         663288311  \n",
              "1          1046063492        1195043846  \n",
              "2           422446409         539641714  \n",
              "3          1532489656        1732845943  \n",
              "4          4557016000        5019100324  "
            ],
            "text/html": [
              "\n",
              "  <div id=\"df-5404cae9-2669-4e34-b5d1-6536a83dfb0e\">\n",
              "    <div class=\"colab-df-container\">\n",
              "      <div>\n",
              "<style scoped>\n",
              "    .dataframe tbody tr th:only-of-type {\n",
              "        vertical-align: middle;\n",
              "    }\n",
              "\n",
              "    .dataframe tbody tr th {\n",
              "        vertical-align: top;\n",
              "    }\n",
              "\n",
              "    .dataframe thead th {\n",
              "        text-align: right;\n",
              "    }\n",
              "</style>\n",
              "<table border=\"1\" class=\"dataframe\">\n",
              "  <thead>\n",
              "    <tr style=\"text-align: right;\">\n",
              "      <th></th>\n",
              "      <th>code</th>\n",
              "      <th>governor</th>\n",
              "      <th>population</th>\n",
              "      <th>area</th>\n",
              "      <th>idh</th>\n",
              "      <th>income_per_capita</th>\n",
              "      <th>vehicle_total</th>\n",
              "      <th>primary_school_enrollment</th>\n",
              "      <th>committed_expenses</th>\n",
              "      <th>realized_revenue</th>\n",
              "    </tr>\n",
              "  </thead>\n",
              "  <tbody>\n",
              "    <tr>\n",
              "      <th>0</th>\n",
              "      <td>AC</td>\n",
              "      <td>GLADSON DE LIMA CAMELI</td>\n",
              "      <td>906876</td>\n",
              "      <td>164173431</td>\n",
              "      <td>663</td>\n",
              "      <td>888</td>\n",
              "      <td>320173</td>\n",
              "      <td>156679</td>\n",
              "      <td>608441681</td>\n",
              "      <td>663288311</td>\n",
              "    </tr>\n",
              "    <tr>\n",
              "      <th>1</th>\n",
              "      <td>AL</td>\n",
              "      <td>JOSE RENAN VASCONCELOS CALHEIROS FILHO</td>\n",
              "      <td>3365351</td>\n",
              "      <td>27830661</td>\n",
              "      <td>631</td>\n",
              "      <td>777</td>\n",
              "      <td>981823</td>\n",
              "      <td>464704</td>\n",
              "      <td>1046063492</td>\n",
              "      <td>1195043846</td>\n",
              "    </tr>\n",
              "    <tr>\n",
              "      <th>2</th>\n",
              "      <td>AP</td>\n",
              "      <td>ANTONIO WALDEZ GÓES DA SILVA</td>\n",
              "      <td>877613</td>\n",
              "      <td>142470762</td>\n",
              "      <td>708</td>\n",
              "      <td>855</td>\n",
              "      <td>224208</td>\n",
              "      <td>134820</td>\n",
              "      <td>422446409</td>\n",
              "      <td>539641714</td>\n",
              "    </tr>\n",
              "    <tr>\n",
              "      <th>3</th>\n",
              "      <td>AM</td>\n",
              "      <td>WILSON MIRANDA LIMA</td>\n",
              "      <td>4269995</td>\n",
              "      <td>1559167878</td>\n",
              "      <td>674</td>\n",
              "      <td>800</td>\n",
              "      <td>1014026</td>\n",
              "      <td>700104</td>\n",
              "      <td>1532489656</td>\n",
              "      <td>1732845943</td>\n",
              "    </tr>\n",
              "    <tr>\n",
              "      <th>4</th>\n",
              "      <td>BA</td>\n",
              "      <td>RUI COSTA DOS SANTOS</td>\n",
              "      <td>14985284</td>\n",
              "      <td>564760429</td>\n",
              "      <td>660</td>\n",
              "      <td>843</td>\n",
              "      <td>4695972</td>\n",
              "      <td>1947177</td>\n",
              "      <td>4557016000</td>\n",
              "      <td>5019100324</td>\n",
              "    </tr>\n",
              "  </tbody>\n",
              "</table>\n",
              "</div>\n",
              "      <button class=\"colab-df-convert\" onclick=\"convertToInteractive('df-5404cae9-2669-4e34-b5d1-6536a83dfb0e')\"\n",
              "              title=\"Convert this dataframe to an interactive table.\"\n",
              "              style=\"display:none;\">\n",
              "        \n",
              "  <svg xmlns=\"http://www.w3.org/2000/svg\" height=\"24px\"viewBox=\"0 0 24 24\"\n",
              "       width=\"24px\">\n",
              "    <path d=\"M0 0h24v24H0V0z\" fill=\"none\"/>\n",
              "    <path d=\"M18.56 5.44l.94 2.06.94-2.06 2.06-.94-2.06-.94-.94-2.06-.94 2.06-2.06.94zm-11 1L8.5 8.5l.94-2.06 2.06-.94-2.06-.94L8.5 2.5l-.94 2.06-2.06.94zm10 10l.94 2.06.94-2.06 2.06-.94-2.06-.94-.94-2.06-.94 2.06-2.06.94z\"/><path d=\"M17.41 7.96l-1.37-1.37c-.4-.4-.92-.59-1.43-.59-.52 0-1.04.2-1.43.59L10.3 9.45l-7.72 7.72c-.78.78-.78 2.05 0 2.83L4 21.41c.39.39.9.59 1.41.59.51 0 1.02-.2 1.41-.59l7.78-7.78 2.81-2.81c.8-.78.8-2.07 0-2.86zM5.41 20L4 18.59l7.72-7.72 1.47 1.35L5.41 20z\"/>\n",
              "  </svg>\n",
              "      </button>\n",
              "      \n",
              "  <style>\n",
              "    .colab-df-container {\n",
              "      display:flex;\n",
              "      flex-wrap:wrap;\n",
              "      gap: 12px;\n",
              "    }\n",
              "\n",
              "    .colab-df-convert {\n",
              "      background-color: #E8F0FE;\n",
              "      border: none;\n",
              "      border-radius: 50%;\n",
              "      cursor: pointer;\n",
              "      display: none;\n",
              "      fill: #1967D2;\n",
              "      height: 32px;\n",
              "      padding: 0 0 0 0;\n",
              "      width: 32px;\n",
              "    }\n",
              "\n",
              "    .colab-df-convert:hover {\n",
              "      background-color: #E2EBFA;\n",
              "      box-shadow: 0px 1px 2px rgba(60, 64, 67, 0.3), 0px 1px 3px 1px rgba(60, 64, 67, 0.15);\n",
              "      fill: #174EA6;\n",
              "    }\n",
              "\n",
              "    [theme=dark] .colab-df-convert {\n",
              "      background-color: #3B4455;\n",
              "      fill: #D2E3FC;\n",
              "    }\n",
              "\n",
              "    [theme=dark] .colab-df-convert:hover {\n",
              "      background-color: #434B5C;\n",
              "      box-shadow: 0px 1px 3px 1px rgba(0, 0, 0, 0.15);\n",
              "      filter: drop-shadow(0px 1px 2px rgba(0, 0, 0, 0.3));\n",
              "      fill: #FFFFFF;\n",
              "    }\n",
              "  </style>\n",
              "\n",
              "      <script>\n",
              "        const buttonEl =\n",
              "          document.querySelector('#df-5404cae9-2669-4e34-b5d1-6536a83dfb0e button.colab-df-convert');\n",
              "        buttonEl.style.display =\n",
              "          google.colab.kernel.accessAllowed ? 'block' : 'none';\n",
              "\n",
              "        async function convertToInteractive(key) {\n",
              "          const element = document.querySelector('#df-5404cae9-2669-4e34-b5d1-6536a83dfb0e');\n",
              "          const dataTable =\n",
              "            await google.colab.kernel.invokeFunction('convertToInteractive',\n",
              "                                                     [key], {});\n",
              "          if (!dataTable) return;\n",
              "\n",
              "          const docLinkHtml = 'Like what you see? Visit the ' +\n",
              "            '<a target=\"_blank\" href=https://colab.research.google.com/notebooks/data_table.ipynb>data table notebook</a>'\n",
              "            + ' to learn more about interactive tables.';\n",
              "          element.innerHTML = '';\n",
              "          dataTable['output_type'] = 'display_data';\n",
              "          await google.colab.output.renderOutput(dataTable, element);\n",
              "          const docLink = document.createElement('div');\n",
              "          docLink.innerHTML = docLinkHtml;\n",
              "          element.appendChild(docLink);\n",
              "        }\n",
              "      </script>\n",
              "    </div>\n",
              "  </div>\n",
              "  "
            ]
          },
          "metadata": {},
          "execution_count": 26
        }
      ]
    },
    {
      "cell_type": "code",
      "source": [
        "#exportar para drive\n",
        "from google.colab import drive\n",
        "drive.mount('/content/drive')\n",
        "\n",
        "states_df.to_csv('/content/drive/MyDrive/SimpleData.ai/Scrap/Data/ibge_states.csv')"
      ],
      "metadata": {
        "id": "hU-dSBxna0rX"
      },
      "execution_count": null,
      "outputs": []
    },
    {
      "cell_type": "code",
      "source": [
        ""
      ],
      "metadata": {
        "id": "MPAMIIa2a0X9"
      },
      "execution_count": null,
      "outputs": []
    }
  ]
}