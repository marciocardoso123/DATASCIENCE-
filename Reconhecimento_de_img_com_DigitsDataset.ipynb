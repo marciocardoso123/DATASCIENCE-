{
  "nbformat": 4,
  "nbformat_minor": 0,
  "metadata": {
    "colab": {
      "name": "Reconhecimento de img com DigitsDataset.ipynb",
      "provenance": [],
      "collapsed_sections": [],
      "authorship_tag": "ABX9TyMx4SMxV3UUi7FROXwSJFNQ",
      "include_colab_link": true
    },
    "kernelspec": {
      "name": "python3",
      "display_name": "Python 3"
    },
    "language_info": {
      "name": "python"
    }
  },
  "cells": [
    {
      "cell_type": "markdown",
      "metadata": {
        "id": "view-in-github",
        "colab_type": "text"
      },
      "source": [
        "<a href=\"https://colab.research.google.com/github/marciocardoso123/DATASCIENCE-/blob/main/Reconhecimento_de_img_com_DigitsDataset.ipynb\" target=\"_parent\"><img src=\"https://colab.research.google.com/assets/colab-badge.svg\" alt=\"Open In Colab\"/></a>"
      ]
    },
    {
      "cell_type": "markdown",
      "source": [
        "#Reconhecimento de imagens com sklearn \n",
        "\n"
      ],
      "metadata": {
        "id": "K8ofu_hBXny-"
      }
    },
    {
      "cell_type": "code",
      "execution_count": 23,
      "metadata": {
        "id": "GUGXLdOuWp3T"
      },
      "outputs": [],
      "source": [
        "from sklearn import datasets\n",
        "digits = datasets.load_digits()"
      ]
    },
    {
      "cell_type": "code",
      "source": [
        "print(digits.data.shape)\n",
        "print(digits.target.shape)"
      ],
      "metadata": {
        "colab": {
          "base_uri": "https://localhost:8080/"
        },
        "id": "UiF_bfZkXRUr",
        "outputId": "a87c2792-c646-4c49-adbb-aee6b58e586e"
      },
      "execution_count": 24,
      "outputs": [
        {
          "output_type": "stream",
          "name": "stdout",
          "text": [
            "(1797, 64)\n",
            "(1797,)\n"
          ]
        }
      ]
    },
    {
      "cell_type": "code",
      "source": [
        "print(digits.images[0])"
      ],
      "metadata": {
        "colab": {
          "base_uri": "https://localhost:8080/"
        },
        "id": "Cxfb1AIPXkKp",
        "outputId": "58722217-0f21-4d50-d807-32faa2411368"
      },
      "execution_count": 25,
      "outputs": [
        {
          "output_type": "stream",
          "name": "stdout",
          "text": [
            "[[ 0.  0.  5. 13.  9.  1.  0.  0.]\n",
            " [ 0.  0. 13. 15. 10. 15.  5.  0.]\n",
            " [ 0.  3. 15.  2.  0. 11.  8.  0.]\n",
            " [ 0.  4. 12.  0.  0.  8.  8.  0.]\n",
            " [ 0.  5.  8.  0.  0.  9.  8.  0.]\n",
            " [ 0.  4. 11.  0.  1. 12.  7.  0.]\n",
            " [ 0.  2. 14.  5. 10. 12.  0.  0.]\n",
            " [ 0.  0.  6. 13. 10.  0.  0.  0.]]\n"
          ]
        }
      ]
    },
    {
      "cell_type": "code",
      "source": [
        "import matplotlib.pyplot as plt\n",
        "from IPython.display import set_matplotlib_formats\n",
        "%matplotlib inline\n",
        "\n",
        "plt.figure(figsize=(2,2))\n",
        "plt.imshow(digits.images[0], cmap=plt.cm.gray_r)\n"
      ],
      "metadata": {
        "colab": {
          "base_uri": "https://localhost:8080/",
          "height": 174
        },
        "id": "ArJpksjRXRRn",
        "outputId": "f35080d4-fe06-44f5-a28e-599fad2ae978"
      },
      "execution_count": 26,
      "outputs": [
        {
          "output_type": "execute_result",
          "data": {
            "text/plain": [
              "<matplotlib.image.AxesImage at 0x7f2e764cc510>"
            ]
          },
          "metadata": {},
          "execution_count": 26
        },
        {
          "output_type": "display_data",
          "data": {
            "text/plain": [
              "<Figure size 144x144 with 1 Axes>"
            ],
            "image/png": "[encoded data removed]"
          },
          "metadata": {
            "needs_background": "light"
          }
        }
      ]
    },
    {
      "cell_type": "markdown",
      "source": [
        "#Support Vector Machine\n",
        "Algoritmo supervisionadopara criar limites entre grupos de dados"
      ],
      "metadata": {
        "id": "mAN95ftRZ5LT"
      }
    },
    {
      "cell_type": "code",
      "source": [
        "#Vamos dividir os dados em treino e teste\n",
        "from sklearn.model_selection import train_test_split\n",
        "x = digits.data\n",
        "y = digits.target\n",
        "x_train , x_test, y_train, y_test = train_test_split(x,y,test_size=0.30,random_state=5)"
      ],
      "metadata": {
        "id": "MVzWjyBHXRN5"
      },
      "execution_count": 27,
      "outputs": []
    },
    {
      "cell_type": "code",
      "source": [
        "from sklearn import svm\n",
        "from sklearn import metrics\n",
        "classifier = svm.SVC()\n",
        "classifier.fit(x_train, y_train)\n",
        "previsoes = classifier.predict(x_test)\n",
        "acertos = metrics.accuracy_score(y_test,previsoes)\n",
        "print(acertos)\n",
        "\n"
      ],
      "metadata": {
        "colab": {
          "base_uri": "https://localhost:8080/"
        },
        "id": "yeCu2nEJXRKf",
        "outputId": "3334a0b9-46e6-4cb3-f97a-7d5acd5c42a9"
      },
      "execution_count": 31,
      "outputs": [
        {
          "output_type": "stream",
          "name": "stdout",
          "text": [
            "0.9851851851851852\n"
          ]
        }
      ]
    },
    {
      "cell_type": "markdown",
      "source": [
        "#Leitura de imagem de um dígito"
      ],
      "metadata": {
        "id": "FHIaxYNUhzTG"
      }
    },
    {
      "cell_type": "code",
      "source": [
        "from pandas.core.dtypes.common import is_numeric_v_string_like\n",
        "import numpy as np\n",
        "import matplotlib.image as mpimg\n",
        "\n",
        "img = mpimg.imread('/content/number.png')\n",
        "\n",
        "\n",
        "#convertendo rgb para formato compativel\n",
        "def rgb2gray(rgb):\n",
        "  img_array = np.dot(rgb[...,:3], [0.299,0.587,0.114])\n",
        "  img_array = (16-(img_array * 16)).astype(int)\n",
        "  img_array = img_array.flatten()\n",
        "  return img_array\n",
        "\n",
        "previsoes = classifier.predict([rgb2gray(img)])\n",
        "print(previsoes)"
      ],
      "metadata": {
        "colab": {
          "base_uri": "https://localhost:8080/"
        },
        "id": "fZ68bvfdXRF6",
        "outputId": "ee1d32b0-af7f-4c81-83f1-b2a83cfd082b"
      },
      "execution_count": 40,
      "outputs": [
        {
          "output_type": "stream",
          "name": "stdout",
          "text": [
            "[1]\n"
          ]
        }
      ]
    }
  ]
}