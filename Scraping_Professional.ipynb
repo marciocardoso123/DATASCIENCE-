{
  "nbformat": 4,
  "nbformat_minor": 0,
  "metadata": {
    "colab": {
      "name": "Scraping_Professional.ipynb",
      "provenance": [],
      "authorship_tag": "ABX9TyM6zPA0lwwv8u28ys0w/YVV",
      "include_colab_link": true
    },
    "kernelspec": {
      "name": "python3",
      "display_name": "Python 3"
    },
    "language_info": {
      "name": "python"
    }
  },
  "cells": [
    {
      "cell_type": "markdown",
      "metadata": {
        "id": "view-in-github",
        "colab_type": "text"
      },
      "source": [
        "<a href=\"https://colab.research.google.com/github/marciocardoso123/DATASCIENCE-/blob/main/Scraping_Professional.ipynb\" target=\"_parent\"><img src=\"https://colab.research.google.com/assets/colab-badge.svg\" alt=\"Open In Colab\"/></a>"
      ]
    },
    {
      "cell_type": "code",
      "execution_count": null,
      "metadata": {
        "id": "91VDvYuBXMVa"
      },
      "outputs": [],
      "source": [
        "#carregando primeira pagina com Scraping\n",
        "import requests\n",
        "from bs4 import BeautifulSoup\n",
        "\n",
        "#abrir aquivo para ler(r)\n",
        "\n",
        "with open('arquivo.html', 'r') as f:\n",
        "\tsoup_string = BeautifulSoup(f.read(), 'html.parser')\n",
        "print(soup_string)\n",
        "\n",
        "#Requisição ao site\n",
        "r = requests.get('http://www.google.com')\n",
        "soup = BeautifulSoup(r.text, 'lxml')\n",
        "print(soup)\n",
        "\n",
        "#abrir arq local\n",
        "with open('arquivo.html', 'r') as f:\n",
        "\tsoup_string = BeautifulSoup(f.read(), 'html5lib')\n",
        "print(soup_string)"
      ]
    },
    {
      "cell_type": "code",
      "source": [
        "#Acessar tags html\n",
        "from bs4 import BeautifulSoup\n",
        "\n",
        "with open('arquivo.html', 'r') as f:\n",
        "\tsoup = BeautifulSoup(f, 'lxml')\n",
        "\n",
        "tag = soup.title\n",
        "print(tag)\n",
        "\n",
        "print(tag.name)\n",
        "\n",
        "tag = soup.p\n",
        "print(tag.name)"
      ],
      "metadata": {
        "colab": {
          "base_uri": "https://localhost:8080/"
        },
        "id": "fK7UMiK3dPsR",
        "outputId": "c981b729-341c-487d-f36b-cb8d3ce95988"
      },
      "execution_count": 3,
      "outputs": [
        {
          "output_type": "stream",
          "name": "stdout",
          "text": [
            "<title>\n",
            "    The Dormouse's story\n",
            "   </title>\n",
            "title\n",
            "p\n"
          ]
        }
      ]
    },
    {
      "cell_type": "code",
      "source": [
        "#Open tags especial\n",
        "from bs4 import BeautifulSoup\n",
        "\n",
        "with open('arquivo.html', 'r') as f:\n",
        "\tsoup = BeautifulSoup(f, 'html.parser')\n",
        "\n",
        "#acessar atrib agrupador class da tag p\n",
        "print(soup.p['class'])\n",
        "\n",
        "#atrib da tag P\n",
        "print(soup.p.attrs)\n",
        "\n",
        "#Recuperar link da tag a com atrib (href)\n",
        "print(soup.a['href'])\n",
        "\n",
        "#acessar o valor do atrib com metodo get\n",
        "print(soup.a.get('href'))"
      ],
      "metadata": {
        "colab": {
          "base_uri": "https://localhost:8080/"
        },
        "id": "mbsFAz9yenFK",
        "outputId": "7d3cd47f-f37a-47ec-88ba-762feb270c9c"
      },
      "execution_count": 5,
      "outputs": [
        {
          "output_type": "stream",
          "name": "stdout",
          "text": [
            "['title']\n",
            "{'class': ['title']}\n",
            "http://example.com/elsie\n",
            "http://example.com/elsie\n"
          ]
        }
      ]
    },
    {
      "cell_type": "code",
      "source": [
        "\n",
        "\n",
        "from bs4 import BeautifulSoup\n",
        "\n",
        "with open('arquivo.html', 'r') as f:\n",
        "\tsoup = BeautifulSoup(f, 'html5lib')\n",
        "\n",
        "#mostrar o testo com tags\n",
        "#print(soup.prettify())\n",
        "\n",
        "##mostrar o testo de forma legivel\n",
        "#print(soup.get_text())\n",
        "\n",
        "#mostrar o texto da tag p\n",
        "#print(soup.p.get_text())\n",
        "\n",
        "#quando buscamos por texto pegamos tudo na tag mae quando buscamos string precisamos ir até a ultima tag q contem o string \n",
        "#print(soup.p.string)\n",
        "\n",
        "#agora vamos a tag geral e a interior para encontrar a string\n",
        "print(soup.p.b.string)"
      ],
      "metadata": {
        "colab": {
          "base_uri": "https://localhost:8080/"
        },
        "id": "KBYaxURsenA8",
        "outputId": "0c38834e-9abd-40a6-a61b-c1f53d610345"
      },
      "execution_count": 7,
      "outputs": [
        {
          "output_type": "stream",
          "name": "stdout",
          "text": [
            "None\n",
            "\n",
            "     The Dormouse's story\n",
            "   \n"
          ]
        }
      ]
    },
    {
      "cell_type": "code",
      "source": [
        "# Novo arq\n",
        "from bs4 import BeautifulSoup\n",
        "\n",
        "with open('arquivo02.html', 'r') as f:\n",
        "\tsoup = BeautifulSoup(f, 'lxml')\n",
        "\n",
        "print(soup.title)#open title\n",
        "print(soup.head.title)#open head e title\n",
        "print(soup.a)#open tag a\n",
        "print(soup.a.img)#não tem img\n",
        "print(soup.td)#open tela\n",
        "print(soup.tr)#open \n",
        "print(soup.tr.td)#open\n",
        "print(soup.td.attrs)#open o atributo da tag muito importante\n",
        "print(soup.td['class'])#open abri o valor do atributo\n",
        "print(soup.td['class'][0])#open abri o primeiro valor dos atributos que compoe a tag"
      ],
      "metadata": {
        "id": "qCrznRkWdPos"
      },
      "execution_count": null,
      "outputs": []
    },
    {
      "cell_type": "code",
      "source": [
        ""
      ],
      "metadata": {
        "id": "rsRBdtm8kgBW"
      },
      "execution_count": null,
      "outputs": []
    },
    {
      "cell_type": "code",
      "source": [
        ""
      ],
      "metadata": {
        "id": "JAqz_v9adPls"
      },
      "execution_count": null,
      "outputs": []
    },
    {
      "cell_type": "code",
      "source": [
        ""
      ],
      "metadata": {
        "id": "etVupadXdPie"
      },
      "execution_count": null,
      "outputs": []
    },
    {
      "cell_type": "code",
      "source": [
        ""
      ],
      "metadata": {
        "id": "RmBt6OQ9dPe6"
      },
      "execution_count": null,
      "outputs": []
    },
    {
      "cell_type": "code",
      "source": [
        ""
      ],
      "metadata": {
        "id": "hAz6rnOEdPbb"
      },
      "execution_count": null,
      "outputs": []
    },
    {
      "cell_type": "code",
      "source": [
        ""
      ],
      "metadata": {
        "id": "5NdiTRkmdPTb"
      },
      "execution_count": null,
      "outputs": []
    },
    {
      "cell_type": "code",
      "source": [
        ""
      ],
      "metadata": {
        "id": "dF8Hp_WTdPNO"
      },
      "execution_count": null,
      "outputs": []
    },
    {
      "cell_type": "code",
      "source": [
        ""
      ],
      "metadata": {
        "id": "XMKUlg-edPJZ"
      },
      "execution_count": null,
      "outputs": []
    },
    {
      "cell_type": "code",
      "source": [
        ""
      ],
      "metadata": {
        "id": "nfYZ4DDHdPFh"
      },
      "execution_count": null,
      "outputs": []
    }
  ]
}